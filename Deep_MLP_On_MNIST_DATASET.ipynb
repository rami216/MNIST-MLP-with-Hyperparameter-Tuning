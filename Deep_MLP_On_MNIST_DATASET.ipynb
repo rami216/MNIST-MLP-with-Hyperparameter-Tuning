{
  "nbformat": 4,
  "nbformat_minor": 0,
  "metadata": {
    "colab": {
      "provenance": []
    },
    "kernelspec": {
      "name": "python3",
      "display_name": "Python 3"
    },
    "language_info": {
      "name": "python"
    }
  },
  "cells": [
    {
      "cell_type": "markdown",
      "source": [
        "In this project, our goal is to build an MLP on the mnsit dataset that will give us approximalty 98% accuracy"
      ],
      "metadata": {
        "id": "Vl9gSCKP09pq"
      }
    },
    {
      "cell_type": "markdown",
      "source": [
        "\n",
        "\n",
        "```\n",
        "\n",
        "```\n",
        "\n",
        "Loading the dataset"
      ],
      "metadata": {
        "id": "zNPGA4nmQZLX"
      }
    },
    {
      "cell_type": "code",
      "source": [
        "import tensorflow as tf"
      ],
      "metadata": {
        "id": "rUCItdv_Qe6s"
      },
      "execution_count": null,
      "outputs": []
    },
    {
      "cell_type": "code",
      "execution_count": null,
      "metadata": {
        "colab": {
          "base_uri": "https://localhost:8080/"
        },
        "id": "8t-uQFmsOj9c",
        "outputId": "a2ed485c-301d-4c39-8bc8-0c629282fb05"
      },
      "outputs": [
        {
          "output_type": "stream",
          "name": "stdout",
          "text": [
            "Downloading data from https://storage.googleapis.com/tensorflow/tf-keras-datasets/mnist.npz\n",
            "\u001b[1m11490434/11490434\u001b[0m \u001b[32m━━━━━━━━━━━━━━━━━━━━\u001b[0m\u001b[37m\u001b[0m \u001b[1m1s\u001b[0m 0us/step\n"
          ]
        }
      ],
      "source": [
        "(X_train_full,y_train_full),(X_test,y_test) = tf.keras.datasets.mnist.load_data()"
      ]
    },
    {
      "cell_type": "code",
      "source": [
        "X_train_full.shape"
      ],
      "metadata": {
        "colab": {
          "base_uri": "https://localhost:8080/"
        },
        "id": "hHBQf_8nQtO4",
        "outputId": "fe32e4bd-9902-44a0-ea34-1313fde9fd8a"
      },
      "execution_count": null,
      "outputs": [
        {
          "output_type": "execute_result",
          "data": {
            "text/plain": [
              "(60000, 28, 28)"
            ]
          },
          "metadata": {},
          "execution_count": 3
        }
      ]
    },
    {
      "cell_type": "code",
      "source": [
        "X_train_full.dtype"
      ],
      "metadata": {
        "colab": {
          "base_uri": "https://localhost:8080/"
        },
        "id": "ZbBDfzr_Q3F0",
        "outputId": "ad645c64-ddff-4930-b97e-fca44b2fe1da"
      },
      "execution_count": null,
      "outputs": [
        {
          "output_type": "execute_result",
          "data": {
            "text/plain": [
              "dtype('uint8')"
            ]
          },
          "metadata": {},
          "execution_count": 4
        }
      ]
    },
    {
      "cell_type": "code",
      "source": [
        "X_train,X_valid = X_train_full[5000:]/255.,X_train_full[:5000]/255.\n",
        "y_train,y_valid = y_train_full[5000:],y_train_full[:5000]\n",
        "X_test = X_test/255."
      ],
      "metadata": {
        "id": "10QGCxlkRG42"
      },
      "execution_count": null,
      "outputs": []
    },
    {
      "cell_type": "code",
      "source": [
        "y_train"
      ],
      "metadata": {
        "colab": {
          "base_uri": "https://localhost:8080/"
        },
        "id": "QI1F6uzZRboP",
        "outputId": "83723ac1-92e5-4f65-df03-cafb282b65cf"
      },
      "execution_count": null,
      "outputs": [
        {
          "output_type": "execute_result",
          "data": {
            "text/plain": [
              "array([7, 3, 4, ..., 5, 6, 8], dtype=uint8)"
            ]
          },
          "metadata": {},
          "execution_count": 6
        }
      ]
    },
    {
      "cell_type": "markdown",
      "source": [
        "labels are the classs ID's, from 0 to 9"
      ],
      "metadata": {
        "id": "YRzruOnORd0l"
      }
    },
    {
      "cell_type": "code",
      "source": [
        "X_valid.shape"
      ],
      "metadata": {
        "colab": {
          "base_uri": "https://localhost:8080/"
        },
        "id": "OBByzYQ4Rio_",
        "outputId": "d1e18c96-35e8-43e5-ea06-c5e1350ea28e"
      },
      "execution_count": null,
      "outputs": [
        {
          "output_type": "execute_result",
          "data": {
            "text/plain": [
              "(5000, 28, 28)"
            ]
          },
          "metadata": {},
          "execution_count": 7
        }
      ]
    },
    {
      "cell_type": "code",
      "source": [
        "X_test.shape\n"
      ],
      "metadata": {
        "colab": {
          "base_uri": "https://localhost:8080/"
        },
        "id": "swrrodB4RpnK",
        "outputId": "db6d79c1-5251-44e6-9e2a-2707458d46e7"
      },
      "execution_count": null,
      "outputs": [
        {
          "output_type": "execute_result",
          "data": {
            "text/plain": [
              "(10000, 28, 28)"
            ]
          },
          "metadata": {},
          "execution_count": 8
        }
      ]
    },
    {
      "cell_type": "markdown",
      "source": [
        "Let's build a simple dense network and find the optimal learning rate. We will need a callback to grow the learning rate at each iteration. It will also record the learning rate and the loss at each iteration:"
      ],
      "metadata": {
        "id": "Q9CxEyYFSF1s"
      }
    },
    {
      "cell_type": "code",
      "source": [
        "class ExponentialLearningRate(tf.keras.callbacks.Callback):\n",
        "    def __init__(self, factor):\n",
        "        self.factor = factor\n",
        "        self.rates = []\n",
        "        self.losses = []\n",
        "\n",
        "    def on_batch_end(self, batch, logs=None):\n",
        "        lr = self.model.optimizer.learning_rate.numpy() * self.factor\n",
        "        self.model.optimizer.learning_rate = lr\n",
        "        self.rates.append(lr)\n",
        "        self.losses.append(logs[\"loss\"])"
      ],
      "metadata": {
        "id": "pZJ6fhHfSGPw"
      },
      "execution_count": null,
      "outputs": []
    },
    {
      "cell_type": "code",
      "source": [
        "import numpy as np"
      ],
      "metadata": {
        "id": "7M6--SoQSLS4"
      },
      "execution_count": null,
      "outputs": []
    },
    {
      "cell_type": "code",
      "source": [
        "tf.keras.backend.clear_session()\n",
        "np.random.seed(42)\n",
        "tf.random.set_seed(42)"
      ],
      "metadata": {
        "id": "C-kc5wj8SKRH"
      },
      "execution_count": null,
      "outputs": []
    },
    {
      "cell_type": "code",
      "source": [
        "model = tf.keras.Sequential(\n",
        "    [\n",
        "        tf.keras.layers.Flatten(input_shape=[28,28]),\n",
        "        tf.keras.layers.Dense(300,activation=\"relu\"),\n",
        "        tf.keras.layers.Dense(100,activation=\"relu\"),\n",
        "        tf.keras.layers.Dense(10,activation=\"softmax\")\n",
        "    ]\n",
        "\n",
        ")"
      ],
      "metadata": {
        "colab": {
          "base_uri": "https://localhost:8080/"
        },
        "id": "EV97QDGISOFn",
        "outputId": "7c6d42d3-335c-4c03-aab2-1c254cd8b53c"
      },
      "execution_count": null,
      "outputs": [
        {
          "output_type": "stream",
          "name": "stderr",
          "text": [
            "/usr/local/lib/python3.10/dist-packages/keras/src/layers/reshaping/flatten.py:37: UserWarning: Do not pass an `input_shape`/`input_dim` argument to a layer. When using Sequential models, prefer using an `Input(shape)` object as the first layer in the model instead.\n",
            "  super().__init__(**kwargs)\n"
          ]
        }
      ]
    },
    {
      "cell_type": "markdown",
      "source": [
        "We will start with a small learning rate of 1e-3, and grow it by 0.5% at each iteration:"
      ],
      "metadata": {
        "id": "XDSJh6bWSfpe"
      }
    },
    {
      "cell_type": "code",
      "source": [
        "optimizer = tf.keras.optimizers.SGD(learning_rate=1e-3)\n",
        "model.compile(loss=\"sparse_categorical_crossentropy\",\n",
        "              optimizer=optimizer,\n",
        "              metrics=[\"accuracy\"])"
      ],
      "metadata": {
        "id": "LjRuHWWFSgAy"
      },
      "execution_count": null,
      "outputs": []
    },
    {
      "cell_type": "code",
      "source": [
        "exponent_lr = ExponentialLearningRate(factor=1.005)"
      ],
      "metadata": {
        "id": "LPYM7hziSyll"
      },
      "execution_count": null,
      "outputs": []
    },
    {
      "cell_type": "markdown",
      "source": [
        "now lets train our model for 1 epoch"
      ],
      "metadata": {
        "id": "gAtl0nr1TTMT"
      }
    },
    {
      "cell_type": "code",
      "source": [
        "history = model.fit(X_train, y_train, epochs=1,\n",
        "                    validation_data=(X_valid, y_valid),\n",
        "                    callbacks=[exponent_lr])"
      ],
      "metadata": {
        "colab": {
          "base_uri": "https://localhost:8080/"
        },
        "id": "UfmtpEHPTWB2",
        "outputId": "9b0691fa-0657-459d-d31a-f6893c43a8dd"
      },
      "execution_count": null,
      "outputs": [
        {
          "output_type": "stream",
          "name": "stdout",
          "text": [
            "\u001b[1m1719/1719\u001b[0m \u001b[32m━━━━━━━━━━━━━━━━━━━━\u001b[0m\u001b[37m\u001b[0m \u001b[1m10s\u001b[0m 5ms/step - accuracy: 0.5288 - loss: nan - val_accuracy: 0.0958 - val_loss: nan\n"
          ]
        }
      ]
    },
    {
      "cell_type": "code",
      "source": [
        "import matplotlib.pyplot as plt"
      ],
      "metadata": {
        "id": "jE9FURaXTtPe"
      },
      "execution_count": null,
      "outputs": []
    },
    {
      "cell_type": "code",
      "source": [
        "plt.plot(exponent_lr.rates, exponent_lr.losses,'r--')\n",
        "plt.gca().set_xscale('log')\n",
        "plt.hlines(min(exponent_lr.losses), min(exponent_lr.rates), max(exponent_lr.rates))\n",
        "plt.axis([min(exponent_lr.rates), max(exponent_lr.rates), 0, exponent_lr.losses[0]])\n",
        "plt.grid()\n",
        "plt.xlabel(\"Learning rate\")\n",
        "plt.ylabel(\"Loss\")"
      ],
      "metadata": {
        "colab": {
          "base_uri": "https://localhost:8080/",
          "height": 472
        },
        "id": "9PdtPjEdTvMf",
        "outputId": "8b52a37f-d73a-4593-ccf7-9becb12d1ec3"
      },
      "execution_count": null,
      "outputs": [
        {
          "output_type": "execute_result",
          "data": {
            "text/plain": [
              "Text(0, 0.5, 'Loss')"
            ]
          },
          "metadata": {},
          "execution_count": 24
        },
        {
          "output_type": "display_data",
          "data": {
            "text/plain": [
              "<Figure size 640x480 with 1 Axes>"
            ],
            "image/png": "[encoded data removed]"
          },
          "metadata": {}
        }
      ]
    },
    {
      "cell_type": "markdown",
      "source": [
        "The loss starts shooting back up violently when the learning rate goes over 6e-1, so let's try using half of that, at 3e-1:"
      ],
      "metadata": {
        "id": "ts9B6DXdxLzj"
      }
    },
    {
      "cell_type": "code",
      "source": [
        "tf.keras.backend.clear_session()\n",
        "np.random.seed(42)\n",
        "tf.random.set_seed(42)"
      ],
      "metadata": {
        "id": "Mijsupr0xMHX"
      },
      "execution_count": null,
      "outputs": []
    },
    {
      "cell_type": "code",
      "source": [],
      "metadata": {
        "id": "6Pnx0hsuxRYU"
      },
      "execution_count": null,
      "outputs": []
    },
    {
      "cell_type": "code",
      "execution_count": null,
      "metadata": {
        "id": "mhLjK6bnw8xP",
        "colab": {
          "base_uri": "https://localhost:8080/"
        },
        "outputId": "61dc2338-453e-4b33-b2ab-8c14e56f2277"
      },
      "outputs": [
        {
          "output_type": "stream",
          "name": "stderr",
          "text": [
            "/usr/local/lib/python3.10/dist-packages/keras/src/layers/reshaping/flatten.py:37: UserWarning: Do not pass an `input_shape`/`input_dim` argument to a layer. When using Sequential models, prefer using an `Input(shape)` object as the first layer in the model instead.\n",
            "  super().__init__(**kwargs)\n"
          ]
        }
      ],
      "source": [
        "model = tf.keras.Sequential([\n",
        "    tf.keras.layers.Flatten(input_shape=[28, 28]),\n",
        "    tf.keras.layers.Dense(300, activation=\"relu\"),\n",
        "    tf.keras.layers.Dense(100, activation=\"relu\"),\n",
        "    tf.keras.layers.Dense(10, activation=\"softmax\")\n",
        "])"
      ]
    },
    {
      "cell_type": "code",
      "execution_count": null,
      "metadata": {
        "id": "sccot0s6w8xR"
      },
      "outputs": [],
      "source": [
        "optimizer = tf.keras.optimizers.SGD(learning_rate=3e-1)\n",
        "model.compile(loss=\"sparse_categorical_crossentropy\", optimizer=optimizer,\n",
        "              metrics=[\"accuracy\"])"
      ]
    },
    {
      "cell_type": "code",
      "source": [
        "early_stopping = tf.keras.callbacks.EarlyStopping(patience=20)\n",
        "checkpoint_cb = tf.keras.callbacks.ModelCheckpoint(\"my_mnist_model.keras\", save_best_only=True)\n",
        "model.fit(X_train,y_train,epochs=100,validation_data=(X_valid,y_valid),\n",
        "          callbacks=[early_stopping,checkpoint_cb])"
      ],
      "metadata": {
        "colab": {
          "base_uri": "https://localhost:8080/"
        },
        "id": "KyWtGt6qxVmO",
        "outputId": "d5037d40-a458-429e-bcc6-fb1c9ef05002"
      },
      "execution_count": null,
      "outputs": [
        {
          "output_type": "stream",
          "name": "stdout",
          "text": [
            "Epoch 1/100\n",
            "\u001b[1m1719/1719\u001b[0m \u001b[32m━━━━━━━━━━━━━━━━━━━━\u001b[0m\u001b[37m\u001b[0m \u001b[1m7s\u001b[0m 4ms/step - accuracy: 0.8699 - loss: 0.4075 - val_accuracy: 0.9712 - val_loss: 0.1000\n",
            "Epoch 2/100\n",
            "\u001b[1m1719/1719\u001b[0m \u001b[32m━━━━━━━━━━━━━━━━━━━━\u001b[0m\u001b[37m\u001b[0m \u001b[1m11s\u001b[0m 4ms/step - accuracy: 0.9701 - loss: 0.0985 - val_accuracy: 0.9742 - val_loss: 0.0827\n",
            "Epoch 3/100\n",
            "\u001b[1m1719/1719\u001b[0m \u001b[32m━━━━━━━━━━━━━━━━━━━━\u001b[0m\u001b[37m\u001b[0m \u001b[1m11s\u001b[0m 5ms/step - accuracy: 0.9811 - loss: 0.0633 - val_accuracy: 0.9742 - val_loss: 0.0876\n",
            "Epoch 4/100\n",
            "\u001b[1m1719/1719\u001b[0m \u001b[32m━━━━━━━━━━━━━━━━━━━━\u001b[0m\u001b[37m\u001b[0m \u001b[1m6s\u001b[0m 4ms/step - accuracy: 0.9855 - loss: 0.0451 - val_accuracy: 0.9768 - val_loss: 0.0858\n",
            "Epoch 5/100\n",
            "\u001b[1m1719/1719\u001b[0m \u001b[32m━━━━━━━━━━━━━━━━━━━━\u001b[0m\u001b[37m\u001b[0m \u001b[1m12s\u001b[0m 5ms/step - accuracy: 0.9900 - loss: 0.0308 - val_accuracy: 0.9734 - val_loss: 0.1065\n",
            "Epoch 6/100\n",
            "\u001b[1m1719/1719\u001b[0m \u001b[32m━━━━━━━━━━━━━━━━━━━━\u001b[0m\u001b[37m\u001b[0m \u001b[1m10s\u001b[0m 6ms/step - accuracy: 0.9916 - loss: 0.0272 - val_accuracy: 0.9774 - val_loss: 0.0989\n",
            "Epoch 7/100\n",
            "\u001b[1m1719/1719\u001b[0m \u001b[32m━━━━━━━━━━━━━━━━━━━━\u001b[0m\u001b[37m\u001b[0m \u001b[1m7s\u001b[0m 4ms/step - accuracy: 0.9925 - loss: 0.0227 - val_accuracy: 0.9738 - val_loss: 0.1167\n",
            "Epoch 8/100\n",
            "\u001b[1m1719/1719\u001b[0m \u001b[32m━━━━━━━━━━━━━━━━━━━━\u001b[0m\u001b[37m\u001b[0m \u001b[1m8s\u001b[0m 5ms/step - accuracy: 0.9946 - loss: 0.0170 - val_accuracy: 0.9774 - val_loss: 0.1113\n",
            "Epoch 9/100\n",
            "\u001b[1m1719/1719\u001b[0m \u001b[32m━━━━━━━━━━━━━━━━━━━━\u001b[0m\u001b[37m\u001b[0m \u001b[1m6s\u001b[0m 4ms/step - accuracy: 0.9940 - loss: 0.0179 - val_accuracy: 0.9762 - val_loss: 0.1199\n",
            "Epoch 10/100\n",
            "\u001b[1m1719/1719\u001b[0m \u001b[32m━━━━━━━━━━━━━━━━━━━━\u001b[0m\u001b[37m\u001b[0m \u001b[1m10s\u001b[0m 4ms/step - accuracy: 0.9926 - loss: 0.0230 - val_accuracy: 0.9798 - val_loss: 0.1091\n",
            "Epoch 11/100\n",
            "\u001b[1m1719/1719\u001b[0m \u001b[32m━━━━━━━━━━━━━━━━━━━━\u001b[0m\u001b[37m\u001b[0m \u001b[1m10s\u001b[0m 4ms/step - accuracy: 0.9953 - loss: 0.0133 - val_accuracy: 0.9778 - val_loss: 0.1123\n",
            "Epoch 12/100\n",
            "\u001b[1m1719/1719\u001b[0m \u001b[32m━━━━━━━━━━━━━━━━━━━━\u001b[0m\u001b[37m\u001b[0m \u001b[1m8s\u001b[0m 4ms/step - accuracy: 0.9946 - loss: 0.0154 - val_accuracy: 0.9808 - val_loss: 0.1133\n",
            "Epoch 13/100\n",
            "\u001b[1m1719/1719\u001b[0m \u001b[32m━━━━━━━━━━━━━━━━━━━━\u001b[0m\u001b[37m\u001b[0m \u001b[1m9s\u001b[0m 4ms/step - accuracy: 0.9964 - loss: 0.0101 - val_accuracy: 0.9820 - val_loss: 0.1012\n",
            "Epoch 14/100\n",
            "\u001b[1m1719/1719\u001b[0m \u001b[32m━━━━━━━━━━━━━━━━━━━━\u001b[0m\u001b[37m\u001b[0m \u001b[1m10s\u001b[0m 4ms/step - accuracy: 0.9958 - loss: 0.0136 - val_accuracy: 0.9796 - val_loss: 0.1201\n",
            "Epoch 15/100\n",
            "\u001b[1m1719/1719\u001b[0m \u001b[32m━━━━━━━━━━━━━━━━━━━━\u001b[0m\u001b[37m\u001b[0m \u001b[1m11s\u001b[0m 4ms/step - accuracy: 0.9966 - loss: 0.0112 - val_accuracy: 0.9794 - val_loss: 0.1134\n",
            "Epoch 16/100\n",
            "\u001b[1m1719/1719\u001b[0m \u001b[32m━━━━━━━━━━━━━━━━━━━━\u001b[0m\u001b[37m\u001b[0m \u001b[1m7s\u001b[0m 4ms/step - accuracy: 0.9957 - loss: 0.0114 - val_accuracy: 0.9784 - val_loss: 0.1303\n",
            "Epoch 17/100\n",
            "\u001b[1m1719/1719\u001b[0m \u001b[32m━━━━━━━━━━━━━━━━━━━━\u001b[0m\u001b[37m\u001b[0m \u001b[1m7s\u001b[0m 4ms/step - accuracy: 0.9963 - loss: 0.0109 - val_accuracy: 0.9800 - val_loss: 0.1137\n",
            "Epoch 18/100\n",
            "\u001b[1m1719/1719\u001b[0m \u001b[32m━━━━━━━━━━━━━━━━━━━━\u001b[0m\u001b[37m\u001b[0m \u001b[1m11s\u001b[0m 4ms/step - accuracy: 0.9972 - loss: 0.0084 - val_accuracy: 0.9762 - val_loss: 0.1248\n",
            "Epoch 19/100\n",
            "\u001b[1m1719/1719\u001b[0m \u001b[32m━━━━━━━━━━━━━━━━━━━━\u001b[0m\u001b[37m\u001b[0m \u001b[1m6s\u001b[0m 4ms/step - accuracy: 0.9966 - loss: 0.0104 - val_accuracy: 0.9808 - val_loss: 0.1149\n",
            "Epoch 20/100\n",
            "\u001b[1m1719/1719\u001b[0m \u001b[32m━━━━━━━━━━━━━━━━━━━━\u001b[0m\u001b[37m\u001b[0m \u001b[1m10s\u001b[0m 3ms/step - accuracy: 0.9987 - loss: 0.0035 - val_accuracy: 0.9840 - val_loss: 0.0983\n",
            "Epoch 21/100\n",
            "\u001b[1m1719/1719\u001b[0m \u001b[32m━━━━━━━━━━━━━━━━━━━━\u001b[0m\u001b[37m\u001b[0m \u001b[1m11s\u001b[0m 4ms/step - accuracy: 0.9993 - loss: 0.0021 - val_accuracy: 0.9820 - val_loss: 0.1113\n",
            "Epoch 22/100\n",
            "\u001b[1m1719/1719\u001b[0m \u001b[32m━━━━━━━━━━━━━━━━━━━━\u001b[0m\u001b[37m\u001b[0m \u001b[1m11s\u001b[0m 5ms/step - accuracy: 0.9991 - loss: 0.0028 - val_accuracy: 0.9826 - val_loss: 0.1137\n"
          ]
        },
        {
          "output_type": "execute_result",
          "data": {
            "text/plain": [
              "<keras.src.callbacks.history.History at 0x7c7a9ef7eb90>"
            ]
          },
          "metadata": {},
          "execution_count": 28
        }
      ]
    },
    {
      "cell_type": "markdown",
      "source": [
        "Now let's rollback to best model"
      ],
      "metadata": {
        "id": "FfbWU57M0mZz"
      }
    },
    {
      "cell_type": "code",
      "source": [
        "best_model = tf.keras.models.load_model(\"my_mnist_model.keras\")\n",
        "best_model.evaluate(X_test,y_test)"
      ],
      "metadata": {
        "colab": {
          "base_uri": "https://localhost:8080/"
        },
        "id": "j9Ie6Hjl0oDD",
        "outputId": "0e93a5c1-9954-4d37-81d9-a15c2d65163d"
      },
      "execution_count": null,
      "outputs": [
        {
          "output_type": "stream",
          "name": "stdout",
          "text": [
            "\u001b[1m313/313\u001b[0m \u001b[32m━━━━━━━━━━━━━━━━━━━━\u001b[0m\u001b[37m\u001b[0m \u001b[1m1s\u001b[0m 2ms/step - accuracy: 0.9703 - loss: 0.1016\n"
          ]
        },
        {
          "output_type": "execute_result",
          "data": {
            "text/plain": [
              "[0.08337438106536865, 0.9747999906539917]"
            ]
          },
          "metadata": {},
          "execution_count": 29
        }
      ]
    },
    {
      "cell_type": "markdown",
      "source": [
        "*We got over 98% accuracy!*"
      ],
      "metadata": {
        "id": "67oVmVql00T_"
      }
    },
    {
      "cell_type": "markdown",
      "source": [
        "Now we will do hyperparametering not only to the learning rate, but all the params, using keras tuner, and we will see if we can acheive a better results"
      ],
      "metadata": {
        "id": "ekYiOJUd1km_"
      }
    },
    {
      "cell_type": "code",
      "source": [
        "!pip install keras-tuner --upgrade\n"
      ],
      "metadata": {
        "colab": {
          "base_uri": "https://localhost:8080/"
        },
        "collapsed": true,
        "id": "sC5yGZ6E1xo0",
        "outputId": "a7c46000-c9b7-4083-b84f-49918df5fb08"
      },
      "execution_count": null,
      "outputs": [
        {
          "output_type": "stream",
          "name": "stdout",
          "text": [
            "Collecting keras-tuner\n",
            "  Downloading keras_tuner-1.4.7-py3-none-any.whl.metadata (5.4 kB)\n",
            "Requirement already satisfied: keras in /usr/local/lib/python3.10/dist-packages (from keras-tuner) (3.5.0)\n",
            "Requirement already satisfied: packaging in /usr/local/lib/python3.10/dist-packages (from keras-tuner) (24.2)\n",
            "Requirement already satisfied: requests in /usr/local/lib/python3.10/dist-packages (from keras-tuner) (2.32.3)\n",
            "Collecting kt-legacy (from keras-tuner)\n",
            "  Downloading kt_legacy-1.0.5-py3-none-any.whl.metadata (221 bytes)\n",
            "Requirement already satisfied: absl-py in /usr/local/lib/python3.10/dist-packages (from keras->keras-tuner) (1.4.0)\n",
            "Requirement already satisfied: numpy in /usr/local/lib/python3.10/dist-packages (from keras->keras-tuner) (1.26.4)\n",
            "Requirement already satisfied: rich in /usr/local/lib/python3.10/dist-packages (from keras->keras-tuner) (13.9.4)\n",
            "Requirement already satisfied: namex in /usr/local/lib/python3.10/dist-packages (from keras->keras-tuner) (0.0.8)\n",
            "Requirement already satisfied: h5py in /usr/local/lib/python3.10/dist-packages (from keras->keras-tuner) (3.12.1)\n",
            "Requirement already satisfied: optree in /usr/local/lib/python3.10/dist-packages (from keras->keras-tuner) (0.13.1)\n",
            "Requirement already satisfied: ml-dtypes in /usr/local/lib/python3.10/dist-packages (from keras->keras-tuner) (0.4.1)\n",
            "Requirement already satisfied: charset-normalizer<4,>=2 in /usr/local/lib/python3.10/dist-packages (from requests->keras-tuner) (3.4.0)\n",
            "Requirement already satisfied: idna<4,>=2.5 in /usr/local/lib/python3.10/dist-packages (from requests->keras-tuner) (3.10)\n",
            "Requirement already satisfied: urllib3<3,>=1.21.1 in /usr/local/lib/python3.10/dist-packages (from requests->keras-tuner) (2.2.3)\n",
            "Requirement already satisfied: certifi>=2017.4.17 in /usr/local/lib/python3.10/dist-packages (from requests->keras-tuner) (2024.12.14)\n",
            "Requirement already satisfied: typing-extensions>=4.5.0 in /usr/local/lib/python3.10/dist-packages (from optree->keras->keras-tuner) (4.12.2)\n",
            "Requirement already satisfied: markdown-it-py>=2.2.0 in /usr/local/lib/python3.10/dist-packages (from rich->keras->keras-tuner) (3.0.0)\n",
            "Requirement already satisfied: pygments<3.0.0,>=2.13.0 in /usr/local/lib/python3.10/dist-packages (from rich->keras->keras-tuner) (2.18.0)\n",
            "Requirement already satisfied: mdurl~=0.1 in /usr/local/lib/python3.10/dist-packages (from markdown-it-py>=2.2.0->rich->keras->keras-tuner) (0.1.2)\n",
            "Downloading keras_tuner-1.4.7-py3-none-any.whl (129 kB)\n",
            "\u001b[?25l   \u001b[90m━━━━━━━━━━━━━━━━━━━━━━━━━━━━━━━━━━━━━━━━\u001b[0m \u001b[32m0.0/129.1 kB\u001b[0m \u001b[31m?\u001b[0m eta \u001b[36m-:--:--\u001b[0m\r\u001b[2K   \u001b[90m━━━━━━━━━━━━━━━━━━━━━━━━━━━━━━━━━━━━━━━━\u001b[0m \u001b[32m129.1/129.1 kB\u001b[0m \u001b[31m5.5 MB/s\u001b[0m eta \u001b[36m0:00:00\u001b[0m\n",
            "\u001b[?25hDownloading kt_legacy-1.0.5-py3-none-any.whl (9.6 kB)\n",
            "Installing collected packages: kt-legacy, keras-tuner\n",
            "Successfully installed keras-tuner-1.4.7 kt-legacy-1.0.5\n"
          ]
        }
      ]
    },
    {
      "cell_type": "code",
      "source": [
        "import keras_tuner as kt\n"
      ],
      "metadata": {
        "id": "eaVrPUHD10Xs"
      },
      "execution_count": null,
      "outputs": []
    },
    {
      "cell_type": "code",
      "source": [
        "def build_model(hp):\n",
        "    # Define the hyperparameters\n",
        "    n_hidden = hp.Int(\"n_hidden\", min_value=0, max_value=8, default=2)\n",
        "    n_neurons = hp.Int(\"n_neurons\", min_value=16, max_value=256)\n",
        "    learning_rate = hp.Float(\"learning_rate\",\n",
        "                             min_value=1e-4,\n",
        "                             max_value=1e-2,\n",
        "                             sampling=\"log\")\n",
        "    optimizer = hp.Choice(\"optimizer\", values=[\"sgd\", \"adam\"])\n",
        "\n",
        "    # Set the optimizer based on the chosen type\n",
        "    if optimizer == \"sgd\":\n",
        "        optimizer = tf.keras.optimizers.SGD(learning_rate=learning_rate)\n",
        "    else:\n",
        "        optimizer = tf.keras.optimizers.Adam(learning_rate=learning_rate)\n",
        "\n",
        "    # Build the model\n",
        "    model = tf.keras.Sequential()\n",
        "    model.add(tf.keras.layers.Flatten(input_shape=[28,28]))\n",
        "\n",
        "    # Add the specified number of hidden layers\n",
        "    for _ in range(n_hidden):\n",
        "        model.add(tf.keras.layers.Dense(n_neurons, activation=\"relu\"))\n",
        "\n",
        "    # Output layer\n",
        "    model.add(tf.keras.layers.Dense(10, activation=\"softmax\"))\n",
        "\n",
        "    # Compile the model\n",
        "    model.compile(loss=\"sparse_categorical_crossentropy\",\n",
        "                  optimizer=optimizer,\n",
        "                  metrics=[\"accuracy\"])\n",
        "\n",
        "    return model\n"
      ],
      "metadata": {
        "id": "fCDTPdzr2iI_"
      },
      "execution_count": null,
      "outputs": []
    },
    {
      "cell_type": "code",
      "source": [
        "random_search_tuner = kt.RandomSearch(\n",
        "        build_model, objective=\"val_accuracy\", max_trials=5, overwrite=True,\n",
        "        directory=\"my_fashion_mnist\", project_name=\"my_rnd_search\", seed=42)\n",
        "\n",
        "random_search_tuner.search(X_train, y_train, epochs=10,\n",
        "                               validation_data=(X_valid, y_valid))"
      ],
      "metadata": {
        "colab": {
          "base_uri": "https://localhost:8080/"
        },
        "id": "sq_Pc3vj2oIs",
        "outputId": "1febc9a3-b63f-4643-c37d-328500ed8a45"
      },
      "execution_count": null,
      "outputs": [
        {
          "output_type": "stream",
          "name": "stdout",
          "text": [
            "Trial 5 Complete [00h 01m 02s]\n",
            "val_accuracy: 0.8184000253677368\n",
            "\n",
            "Best val_accuracy So Far: 0.9643999934196472\n",
            "Total elapsed time: 00h 05m 20s\n"
          ]
        }
      ]
    },
    {
      "cell_type": "code",
      "source": [
        "top_models = random_search_tuner.get_best_models(num_models=1)\n",
        "new_best_model = top_models[0]  # Take the best model\n",
        "\n",
        "# Evaluate it on the test set\n",
        "test_loss, test_accuracy = new_best_model.evaluate(X_test, y_test)\n",
        "print(\"Test accuracy:\", test_accuracy)\n"
      ],
      "metadata": {
        "colab": {
          "base_uri": "https://localhost:8080/"
        },
        "id": "wvWmX4aB5jNQ",
        "outputId": "1b3ecdf3-545c-47ce-bd58-470c750db230"
      },
      "execution_count": null,
      "outputs": [
        {
          "output_type": "stream",
          "name": "stderr",
          "text": [
            "/usr/local/lib/python3.10/dist-packages/keras/src/layers/reshaping/flatten.py:37: UserWarning: Do not pass an `input_shape`/`input_dim` argument to a layer. When using Sequential models, prefer using an `Input(shape)` object as the first layer in the model instead.\n",
            "  super().__init__(**kwargs)\n"
          ]
        },
        {
          "output_type": "stream",
          "name": "stdout",
          "text": [
            "\u001b[1m313/313\u001b[0m \u001b[32m━━━━━━━━━━━━━━━━━━━━\u001b[0m\u001b[37m\u001b[0m \u001b[1m1s\u001b[0m 2ms/step - accuracy: 0.9550 - loss: 0.1459\n",
            "Test accuracy: 0.9606000185012817\n"
          ]
        }
      ]
    },
    {
      "cell_type": "markdown",
      "source": [
        "Oh no, we got less accuracy, 0.9606000185012817 compared to 0.9747999906539917, maybe we will try increasing the number of trials, and see"
      ],
      "metadata": {
        "id": "_bFYr_5q6O5i"
      }
    },
    {
      "cell_type": "code",
      "source": [
        "random_search_tuner = kt.RandomSearch(\n",
        "        build_model, objective=\"val_accuracy\", max_trials=10, overwrite=False,\n",
        "        directory=\"my_fashion_mnist\", project_name=\"my_rnd_search\", seed=42)\n",
        "\n",
        "random_search_tuner.search(X_train, y_train, epochs=10,\n",
        "                               validation_data=(X_valid, y_valid))"
      ],
      "metadata": {
        "colab": {
          "base_uri": "https://localhost:8080/"
        },
        "id": "s3F8AQWB6YoI",
        "outputId": "f2c5e52a-ed26-4b63-893a-4b4dcb2aaa94"
      },
      "execution_count": null,
      "outputs": [
        {
          "output_type": "stream",
          "name": "stdout",
          "text": [
            "Trial 10 Complete [00h 01m 36s]\n",
            "val_accuracy: 0.9666000008583069\n",
            "\n",
            "Best val_accuracy So Far: 0.9757999777793884\n",
            "Total elapsed time: 00h 24m 23s\n"
          ]
        }
      ]
    },
    {
      "cell_type": "code",
      "source": [
        "top_models = random_search_tuner.get_best_models(num_models=1)\n",
        "new_best_model = top_models[0]  # Take the best model\n",
        "\n",
        "# Evaluate it on the test set\n",
        "test_loss, test_accuracy = new_best_model.evaluate(X_test, y_test)\n",
        "print(\"Test accuracy:\", test_accuracy)\n"
      ],
      "metadata": {
        "colab": {
          "base_uri": "https://localhost:8080/"
        },
        "id": "zV2W2rvp8zVD",
        "outputId": "c3645ab9-ebb6-47d6-a8cd-93f0015df281"
      },
      "execution_count": null,
      "outputs": [
        {
          "output_type": "stream",
          "name": "stderr",
          "text": [
            "/usr/local/lib/python3.10/dist-packages/keras/src/saving/saving_lib.py:713: UserWarning: Skipping variable loading for optimizer 'adam', because it has 2 variables whereas the saved optimizer has 34 variables. \n",
            "  saveable.load_own_variables(weights_store.get(inner_path))\n"
          ]
        },
        {
          "output_type": "stream",
          "name": "stdout",
          "text": [
            "\u001b[1m313/313\u001b[0m \u001b[32m━━━━━━━━━━━━━━━━━━━━\u001b[0m\u001b[37m\u001b[0m \u001b[1m1s\u001b[0m 2ms/step - accuracy: 0.9716 - loss: 0.1270\n",
            "Test accuracy: 0.9761999845504761\n"
          ]
        }
      ]
    },
    {
      "cell_type": "markdown",
      "source": [
        "good, by increasing the max_trials, the algorithm got 0.9761999845504761 of accuracy!"
      ],
      "metadata": {
        "id": "GfEvvqd985tX"
      }
    },
    {
      "cell_type": "markdown",
      "source": [
        "for the last time, lets also increase the max_trials, maybe we can even reach 98%!! lets try"
      ],
      "metadata": {
        "id": "fAdWP8F9C0w_"
      }
    },
    {
      "cell_type": "code",
      "source": [
        "random_search_tuner = kt.RandomSearch(\n",
        "        build_model, objective=\"val_accuracy\", max_trials=20, overwrite=False,\n",
        "        directory=\"my_fashion_mnist\", project_name=\"my_rnd_search\", seed=42)\n",
        "\n",
        "random_search_tuner.search(X_train, y_train, epochs=10,\n",
        "                               validation_data=(X_valid, y_valid))"
      ],
      "metadata": {
        "colab": {
          "base_uri": "https://localhost:8080/"
        },
        "id": "aeSUVM4RC9Xm",
        "outputId": "82d6ede3-1cf8-4178-9ad2-8f7ae86d6bd0"
      },
      "execution_count": null,
      "outputs": [
        {
          "output_type": "stream",
          "name": "stdout",
          "text": [
            "Trial 20 Complete [00h 02m 54s]\n",
            "val_accuracy: 0.9312000274658203\n",
            "\n",
            "Best val_accuracy So Far: 0.9757999777793884\n",
            "Total elapsed time: 01h 09m 08s\n"
          ]
        }
      ]
    },
    {
      "cell_type": "code",
      "source": [
        "top_models = random_search_tuner.get_best_models(num_models=1)\n",
        "new_best_model = top_models[0]  # Take the best model\n",
        "\n",
        "# Evaluate it on the test set\n",
        "test_loss, test_accuracy = new_best_model.evaluate(X_test, y_test)\n",
        "print(\"Test accuracy:\", test_accuracy)\n"
      ],
      "metadata": {
        "colab": {
          "base_uri": "https://localhost:8080/"
        },
        "id": "sTxbe7LNG1hO",
        "outputId": "f4302594-7490-432b-b029-d3f3bdbf01e7"
      },
      "execution_count": null,
      "outputs": [
        {
          "output_type": "stream",
          "name": "stdout",
          "text": [
            "\u001b[1m313/313\u001b[0m \u001b[32m━━━━━━━━━━━━━━━━━━━━\u001b[0m\u001b[37m\u001b[0m \u001b[1m1s\u001b[0m 2ms/step - accuracy: 0.9716 - loss: 0.1270\n",
            "Test accuracy: 0.9761999845504761\n"
          ]
        }
      ]
    },
    {
      "cell_type": "markdown",
      "source": [
        "hh, best acheived: 0.9761999845504761"
      ],
      "metadata": {
        "id": "pisDaxjTG6Tr"
      }
    }
  ]
}